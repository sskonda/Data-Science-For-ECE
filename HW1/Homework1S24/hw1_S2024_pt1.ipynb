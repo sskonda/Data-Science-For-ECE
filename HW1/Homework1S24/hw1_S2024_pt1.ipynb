{
 "cells": [
  {
   "cell_type": "markdown",
   "metadata": {},
   "source": [
    "# Homework 1 Part 1\n",
    "\n",
    "This is an individual assignment."
   ]
  },
  {
   "cell_type": "markdown",
   "metadata": {},
   "source": [
    "## Description\n",
    "\n",
    "Provide analytical solutions to the problems below and upload your answers as a PDF. (There is no need to type your answers -- just scan your handwritten solutions with an app like [CamScanner](https://www.camscanner.com/user/download) or [Scannable](https://apps.apple.com/us/app/evernote-scannable/id883338188).)"
   ]
  },
  {
   "cell_type": "markdown",
   "metadata": {},
   "source": [
    "## Problem 1\n",
    "\n",
    "Let $\\{\\Omega, \\mathcal{F}, P\\}$ be a probability space with $A\\in\\mathcal{F}$, $B\\in\\mathcal{F}$ and $C\\in\\mathcal{F}$ such that $P(A)=0.5$, $P(B)=0.2$, $P(C)=0.1$ and $P(\\overline{A\\cup B})=0.45$. Compute the following probabilities:\n",
    "\n",
    "1. Either $A$ or $B$ occurs.\n",
    "\n",
    "2. Both $A$ and $B$ occur.\n",
    "\n",
    "3. $A$ occurs but $B$ does not occur.\n",
    "\n",
    "4. Are $A$ and $B$ mutually exclusive?\n",
    "\n",
    "\n",
    "Hint: using the axioms of probability. "
   ]
  },
  {
   "cell_type": "markdown",
   "metadata": {},
   "source": [
    "###### Problem 2\n",
    "\n",
    "Consider repeatedly rolling a fair 6-sided die.\n",
    "\n",
    "1. What is the probability that the top face will be 4 at least once on four rolls of the die?\n",
    "\n",
    "2. What is the probability that the top face will be 4 at least once on 20 rolls of the die?\n",
    "\n",
    "3. How many rolls of the die would you have to do to be 90% confident that you would see at least one 4? In other words, how many rolls of the die would you have to be able to say, with a probability at least 90%, you will see at least one 4 appears.\n",
    "\n",
    "hint: For 3, use the answer of 1 and 2 to find a function that takes the number of die rolls to the probability of seeing at least one 4. Then, solve an equation when the probability is 90%, what is the number of die rolls."
   ]
  },
  {
   "cell_type": "markdown",
   "metadata": {},
   "source": [
    "## Problem 3\n",
    "\n",
    "A six-sided die is loaded in a way that each **even** face is **twice** as likely as each odd face. All even faces are equally likely, as are all odd faces. Construct a probabilistic model for a single roll of this die and find the probability that the outcome is less than 4.\n",
    "\n",
    "Hint: First, determine the probability of each face on the die. Then, use the addivity axiom.\n"
   ]
  },
  {
   "cell_type": "markdown",
   "metadata": {},
   "source": [
    "## Problem 4\n",
    " \n",
    "Consider two roommates, Charlie and David, living in the same apartment, where they share the living room. They decide to combine all of their Fall 2023 textbooks. There are 3 books on Probability and Statistics, 2 books on Linear Algebra, 2 books on Machine Learning and 3 culinary books.\n",
    "\n",
    "Their friend will select 3 books at random (with eyes closed). They decide that if among these 3 books there are: 1 on Probability and Statistics, 1 on Linear Algebra and 1 on Culinary, then Charlie will have to clean the shared living room this week.\n",
    "\n",
    "1. How many ways are there to select 3 books?\n",
    "\n",
    "2. What is the probability that Charlie will clean the living room this week?"
   ]
  },
  {
   "cell_type": "markdown",
   "metadata": {},
   "source": [
    "## Problem 5\n",
    "\n",
    "A computer manufacturer uses chips from three sources.  Chips from sources A, B, and C are defective with probabilities 0.002, 0.02, and 0.001, respectively. Let $P_A$, $P_B$, and $P_C$ denote the probabilities that a chip is from source $A$, $B$, or $C$, respectively. \n",
    "\n",
    "1. If the computer manufacturer uses and equal number of chips from each source, what is the probability that a randomly chosen chip is defective? (I.e., if you do not know what manufacturer it came from.)\n",
    "\n",
    "2. If the computer manufacturer uses and equal number of chips from each source and a randomly chosen chip is found to be defective, find the (conditional) probability that it came from each source.\n",
    "\n",
    "3. If the computer manufacturer gets 50\\% of its chips from source $A$, 10\\% of its chips from source $B$, and 40\\% of its chips from source $C$, what is the probability that a randomly chosen chip is defective?\n",
    "\n",
    "4. If the computer manufacturer gets 50\\% of its chips from source $A$, 10\\% of its chips from source $B$, and 40\\% of its chips from source $C$, and a randomly chosen chip is found to be defective, find the (conditional) probability that it came from each source.\n",
    "\n",
    "\n"
   ]
  },
  {
   "cell_type": "markdown",
   "metadata": {},
   "source": [
    "## Problem 6\n",
    "\n",
    "A card is drawn at random from an ordinary deck of 52 playing cards. Find the probability that it is \n",
    "\n",
    "(a) an ace,\n",
    "\n",
    "(b) a jack of spade,\n",
    "\n",
    "(c) a jack of spade or a six of diamonds,\n",
    "\n",
    "(d) any suit except spades or hearts.\n",
    "\n"
   ]
  },
  {
   "cell_type": "markdown",
   "metadata": {},
   "source": [
    "## Problem 7\n",
    "\n",
    "Consider the experiment where you select one card at a time, at random and without replacement, from a playing 52-card deck (13 cards per suit).\n",
    "\n",
    " Let $H_i$ be the event that a heart is the $i$th draw from the deck.\n",
    " \n",
    "\n",
    "1. Compute $P(H_1)$.\n",
    "\n",
    "2. Compute $P(H_2)$ (hint. conditioning on the first card drawn from the deck. and use the law of total probability)\n",
    "\n",
    "Hint: find a set of events that partitions the sample space, be clear in naming these events. For instance, $\\{H,S, D,C\\}$ can be the set of events that indicate hearts, spade, diamond, club. $\\{1,2,\\ldots,13\\}$ can be ace, two, ..., king. $\\{B,R\\}$ can be the set of events that indicate Red or Black.\n"
   ]
  },
  {
   "cell_type": "markdown",
   "metadata": {},
   "source": [
    "# Submit Your Solutions\n",
    "\n",
    "Confirm that you've successfully completed the assignment.\n",
    "\n",
    "Scan your handwritten solutions and create a single PDF file with your solutions.\n",
    "\n",
    "Submit the solution in canvas."
   ]
  },
  {
   "cell_type": "code",
   "execution_count": null,
   "metadata": {},
   "outputs": [],
   "source": []
  }
 ],
 "metadata": {
  "kernelspec": {
   "display_name": "Python 3 (ipykernel)",
   "language": "python",
   "name": "python3"
  },
  "language_info": {
   "codemirror_mode": {
    "name": "ipython",
    "version": 3
   },
   "file_extension": ".py",
   "mimetype": "text/x-python",
   "name": "python",
   "nbconvert_exporter": "python",
   "pygments_lexer": "ipython3",
   "version": "3.11.5"
  },
  "latex_envs": {
   "LaTeX_envs_menu_present": true,
   "autoclose": false,
   "autocomplete": true,
   "bibliofile": "biblio.bib",
   "cite_by": "apalike",
   "current_citInitial": 1,
   "eqLabelWithNumbers": true,
   "eqNumInitial": 1,
   "hotkeys": {
    "equation": "Ctrl-E",
    "itemize": "Ctrl-I"
   },
   "labels_anchors": false,
   "latex_user_defs": false,
   "report_style_numbering": false,
   "user_envs_cfg": false
  },
  "varInspector": {
   "cols": {
    "lenName": 16,
    "lenType": 16,
    "lenVar": 40
   },
   "kernels_config": {
    "python": {
     "delete_cmd_postfix": "",
     "delete_cmd_prefix": "del ",
     "library": "var_list.py",
     "varRefreshCmd": "print(var_dic_list())"
    },
    "r": {
     "delete_cmd_postfix": ") ",
     "delete_cmd_prefix": "rm(",
     "library": "var_list.r",
     "varRefreshCmd": "cat(var_dic_list()) "
    }
   },
   "types_to_exclude": [
    "module",
    "function",
    "builtin_function_or_method",
    "instance",
    "_Feature"
   ],
   "window_display": false
  }
 },
 "nbformat": 4,
 "nbformat_minor": 4
}
