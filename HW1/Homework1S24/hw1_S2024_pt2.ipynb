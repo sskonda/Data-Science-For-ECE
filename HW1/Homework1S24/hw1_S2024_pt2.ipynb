{
 "cells": [
  {
   "cell_type": "markdown",
   "metadata": {},
   "source": [
    "# Homework 1 Part 2\n",
    "\n",
    "\n",
    "This is an individual assignment."
   ]
  },
  {
   "cell_type": "markdown",
   "metadata": {},
   "source": [
    "## Description\n",
    "\n",
    "Create or edit this Jupyter Notebook to answer the questions below. Use simulations to answer these questions. An analytical solution can be useful to check if your simulation is correct but analytical solutions alone will not be accepted as a solution to a problem."
   ]
  },
  {
   "cell_type": "markdown",
   "metadata": {},
   "source": [
    "## Problem 1\n",
    "\n",
    "Consider repeatedly rolling a fair 4-sided die.\n",
    "\n",
    "1. Create a simulation to compute the probability that the top face will be 4 at least once on four rolls of the die?\n",
    "2. Create a simulation to compute the probability that the top face will be 4 at least once on 20 rolls of the die?\n",
    "3. Create a simulation to compute how many rolls of the die would you have to do to be 90% confident that you would see at least one 4?\n",
    "4. Using the formula you have computed in problem 2 part 4, make a Python function that takes in the target value $p$ and outputs the required number of rolls of an integer. \n",
    "    1. Find the values for $p=0.95$ and $p=0.99$. \n",
    "    2. Use your simulation to verify that the number of rolls you specified is sufficient to achieve $p\\geq 0.95$."
   ]
  },
  {
   "cell_type": "code",
   "execution_count": 4,
   "metadata": {},
   "outputs": [],
   "source": [
    "import random\n",
    "import numpy as np\n",
    "import numpy.random as npr\n",
    "\n",
    "import matplotlib.pyplot as plt\n",
    "%matplotlib inline\n",
    "plt.style.use('ggplot')"
   ]
  },
  {
   "cell_type": "code",
   "execution_count": 30,
   "metadata": {},
   "outputs": [
    {
     "name": "stdout",
     "output_type": "stream",
     "text": [
      "The probability that the top face will be 4 at least once on four rolls of the die is 0.681\n"
     ]
    }
   ],
   "source": [
    "# Set the number of simulations\n",
    "num_sims = 10000\n",
    "\n",
    "# Set the number of rolls in each simulation\n",
    "num_rolls = 4\n",
    "\n",
    "# Initialize the counter for events where the top face is 4\n",
    "event_counter = 0\n",
    "\n",
    "# Perform simulations\n",
    "for i in range(num_sims):\n",
    "    # Roll the die for the specified number of times\n",
    "    for j in range(num_rolls):\n",
    "        # Simulate a roll of a fair 4-sided die\n",
    "        roll_dice = random.randint(1, 4)\n",
    "        \n",
    "        # Check if the top face is 4, and if so, break out of the inner loop\n",
    "        if roll_dice == 4:\n",
    "            event_counter += 1\n",
    "            break\n",
    "\n",
    "# Calculate the probability of the event occurring at least once in the specified number of rolls\n",
    "probability = event_counter / num_sims\n",
    "\n",
    "# Print the result\n",
    "print(\"The probability that the top face will be 4 at least once on four rolls of the die is\", probability)\n"
   ]
  },
  {
   "cell_type": "code",
   "execution_count": 27,
   "metadata": {},
   "outputs": [
    {
     "name": "stdout",
     "output_type": "stream",
     "text": [
      "The probability that the top face will be 4 at least once on four rolls of the die is 0.997\n"
     ]
    }
   ],
   "source": [
    "# Set the number of simulations\n",
    "num_sims = 10000\n",
    "\n",
    "# Set the number of rolls in each simulation\n",
    "num_rolls = 20\n",
    "\n",
    "# Initialize the counter for events where the top face is 4\n",
    "event_counter = 0\n",
    "\n",
    "# Perform simulations\n",
    "for i in range(num_sims):\n",
    "    # Roll the die for the specified number of times\n",
    "    for j in range(num_rolls):\n",
    "        # Simulate a roll of a fair 4-sided die\n",
    "        roll_dice = random.randint(1, 4)\n",
    "        \n",
    "        # Check if the top face is 4, and if so, break out of the inner loop\n",
    "        if roll_dice == 4:\n",
    "            event_counter += 1\n",
    "            break\n",
    "\n",
    "# Calculate the probability of the event occurring at least once in the specified number of rolls\n",
    "probability = event_counter / num_sims\n",
    "\n",
    "# Print the result\n",
    "print(\"The probability that the top face will be 4 at least once on four rolls of the die is\", probability)\n"
   ]
  },
  {
   "cell_type": "code",
   "execution_count": 52,
   "metadata": {},
   "outputs": [
    {
     "name": "stdout",
     "output_type": "stream",
     "text": [
      "You would need 9 rolls to be 90% confident that you would see at least one 4\n"
     ]
    }
   ],
   "source": [
    "# Set the target confidence and the number of simulations\n",
    "target_confidence = 0.90\n",
    "num_sims = 1000\n",
    "\n",
    "# Initialize the counter for the number of rolls\n",
    "num_rolls = 1\n",
    "\n",
    "# Perform simulations\n",
    "while True:\n",
    "    event_counter = 0\n",
    "    for _ in range(num_sims):\n",
    "        for _ in range(num_rolls):\n",
    "            # Simulate a roll of a fair 4-sided die\n",
    "            roll_dice = random.randint(1, 4)\n",
    "            \n",
    "            # Check if the top face is 4, and if so, break out of the inner loop\n",
    "            if roll_dice == 4:\n",
    "                event_counter += 1\n",
    "                break\n",
    "\n",
    "    # Calculate the confidence of the event occurring at least once in the specified number of rolls\n",
    "    confidence = event_counter / num_sims\n",
    "\n",
    "    # If the confidence is greater than or equal to the target confidence, break out of the outer loop\n",
    "    if confidence >= target_confidence:\n",
    "        break\n",
    "\n",
    "    num_rolls += 1\n",
    "\n",
    "# Print the result\n",
    "print(\"You would need\", num_rolls, \"rolls to be 90% confident that you would see at least one 4\")\n"
   ]
  },
  {
   "cell_type": "markdown",
   "metadata": {},
   "source": [
    "## Problem 2\n",
    "\n",
    "Create a simulation function where you will roll a fair 6-sided die twice. Use simulation to find out the probability of getting a 4 or 6 on the first toss and a 1,2,3, or 5 on the second toss. "
   ]
  },
  {
   "cell_type": "code",
   "execution_count": 53,
   "metadata": {},
   "outputs": [
    {
     "name": "stdout",
     "output_type": "stream",
     "text": [
      "The probability of getting a 4 or 6 on the first toss and a 1, 2, 3, or 5 on the second toss is 0.2213\n"
     ]
    }
   ],
   "source": [
    "# Set the number of simulations\n",
    "num_sims = 10000\n",
    "\n",
    "# Initialize the counter for events where the top face is 4 or 6 on the first toss and 1, 2, 3, or 5 on the second toss\n",
    "event_counter = 0\n",
    "\n",
    "# Perform simulations\n",
    "for i in range(num_sims):\n",
    "    # Simulate a roll of a fair 6-sided die\n",
    "    roll_dice1 = random.randint(1, 6)\n",
    "    roll_dice2 = random.randint(1, 6)\n",
    "    \n",
    "    # Check if the top face is 4 or 6 on the first toss and 1, 2, 3, or 5 on the second toss\n",
    "    if (roll_dice1 in {4, 6}) and (roll_dice2 in {1, 2, 3, 5}):\n",
    "        event_counter += 1\n",
    "\n",
    "# Calculate the probability of the event\n",
    "probability = event_counter / num_sims\n",
    "\n",
    "# Print the result\n",
    "print(\"The probability of getting a 4 or 6 on the first toss and a 1, 2, 3, or 5 on the second toss is\", probability)\n"
   ]
  },
  {
   "cell_type": "markdown",
   "metadata": {},
   "source": [
    "## Problem 3\n",
    "\n",
    "Suppose that you have a bag with 3 coins. One of them is a fair coin, but the others are biased trick coins. When flipped, the three coins come up heads with probability $\\frac{1}{2}$, $\\frac{1}{4}$, and $\\frac{1}{6}$, respectively.\n",
    "\n",
    "Consider the experiment where you pick one coin at random and flip it three times. Let $H_i$ be the event that the coin comes up heads on flip $i$. What is the probability of the outcome $H_1\\cap H_2\\cap \\overline{H_3}$?\n",
    "\n",
    "With small modification in your code, find out the probability of the outcome $H_1\\cap \\overline{H_2} \\cap \\overline{H_3}$.\n",
    "\n",
    "Use simulation to find out the probability."
   ]
  },
  {
   "cell_type": "code",
   "execution_count": 54,
   "metadata": {},
   "outputs": [
    {
     "name": "stdout",
     "output_type": "stream",
     "text": [
      "The probability of getting heads on all three flips is 0.0481\n",
      "The probability of getting heads on the first two flips is 0.1129\n"
     ]
    }
   ],
   "source": [
    "# Set the number of simulations\n",
    "num_sims = 10000\n",
    "\n",
    "# Initialize counters for the two events\n",
    "event_counter1 = 0\n",
    "event_counter2 = 0\n",
    "\n",
    "# Probabilities of getting heads for the three coins\n",
    "probs = [1/2, 1/4, 1/6]\n",
    "\n",
    "# Function to simulate flipping a coin with a given probability of getting heads\n",
    "def flip_coin(p):\n",
    "    return random.random() < p\n",
    "\n",
    "# Perform simulations\n",
    "for i in range(num_sims):\n",
    "    p = random.choice(probs)\n",
    "    flips = [flip_coin(p) for i in range(3)]\n",
    "\n",
    "    # Check if the coin came up heads on all three flips\n",
    "    if all(flips):\n",
    "        event_counter1 += 1\n",
    "\n",
    "    # Check if the coin came up heads on the first two flips\n",
    "    if all(flips[:2]):\n",
    "        event_counter2 += 1\n",
    "\n",
    "# Calculate the probabilities of the two events\n",
    "probability1 = event_counter1 / num_sims\n",
    "probability2 = event_counter2 / num_sims\n",
    "\n",
    "# Print the results\n",
    "print(\"The probability of getting heads on all three flips is\", probability1)\n",
    "print(\"The probability of getting heads on the first two flips is\", probability2)\n"
   ]
  },
  {
   "cell_type": "markdown",
   "metadata": {},
   "source": [
    "# Submit Your Solutions\n",
    "\n",
    "Confirm that you've successfully completed the assignment.\n",
    "\n",
    "Along with the Notebook, include a PDF of the notebook with your solutions.\n",
    "\n",
    "```add``` and ```commit``` the final version of your work, and ```push``` your PDF file to your GitHub repository.\n",
    "\n",
    "Submit the URL of your GitHub Repository as your assignment submission on Canvas."
   ]
  }
 ],
 "metadata": {
  "kernelspec": {
   "display_name": "Python 3 (ipykernel)",
   "language": "python",
   "name": "python3"
  },
  "language_info": {
   "codemirror_mode": {
    "name": "ipython",
    "version": 3
   },
   "file_extension": ".py",
   "mimetype": "text/x-python",
   "name": "python",
   "nbconvert_exporter": "python",
   "pygments_lexer": "ipython3",
   "version": "3.11.5"
  },
  "latex_envs": {
   "LaTeX_envs_menu_present": true,
   "autoclose": false,
   "autocomplete": true,
   "bibliofile": "biblio.bib",
   "cite_by": "apalike",
   "current_citInitial": 1,
   "eqLabelWithNumbers": true,
   "eqNumInitial": 1,
   "hotkeys": {
    "equation": "Ctrl-E",
    "itemize": "Ctrl-I"
   },
   "labels_anchors": false,
   "latex_user_defs": false,
   "report_style_numbering": false,
   "user_envs_cfg": false
  },
  "varInspector": {
   "cols": {
    "lenName": 16,
    "lenType": 16,
    "lenVar": 40
   },
   "kernels_config": {
    "python": {
     "delete_cmd_postfix": "",
     "delete_cmd_prefix": "del ",
     "library": "var_list.py",
     "varRefreshCmd": "print(var_dic_list())"
    },
    "r": {
     "delete_cmd_postfix": ") ",
     "delete_cmd_prefix": "rm(",
     "library": "var_list.r",
     "varRefreshCmd": "cat(var_dic_list()) "
    }
   },
   "types_to_exclude": [
    "module",
    "function",
    "builtin_function_or_method",
    "instance",
    "_Feature"
   ],
   "window_display": false
  }
 },
 "nbformat": 4,
 "nbformat_minor": 4
}
